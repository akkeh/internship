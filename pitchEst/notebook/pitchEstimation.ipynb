{
 "cells": [
  {
   "cell_type": "code",
   "execution_count": 1,
   "metadata": {
    "collapsed": false
   },
   "outputs": [
    {
     "name": "stdout",
     "output_type": "stream",
     "text": [
      "read 7695 lines of Freesound data\n",
      "read 7725 lines of Freesound soundfile data\n",
      "read 3568 lines of non-Freesound soundfile data\n",
      "Total amount of sounds assessed: 11263\n"
     ]
    }
   ],
   "source": [
    "import numpy as np\n",
    "\n",
    "from loadResults import *  # load results\n",
    "import pEstAssess as pa    # some functions to mangle the results\n",
    "%matplotlib inline"
   ]
  },
  {
   "cell_type": "code",
   "execution_count": 2,
   "metadata": {
    "collapsed": false
   },
   "outputs": [
    {
     "name": "stdout",
     "output_type": "stream",
     "text": [
      "Freesound data mean error: -516.095943643\n",
      "Freesound soundfile data mean error: -288.733477112\n"
     ]
    }
   ],
   "source": [
    "# compare JSON and ESS\n",
    "mu_JSON_err = np.mean(frsJSON_err);\n",
    "mu_ESS_err = np.mean(frsESS_err);\n",
    "print \"Freesound data mean error: \"+str(mu_JSON_err);\n",
    "print \"Freesound soundfile data mean error: \"+str(mu_ESS_err);\n"
   ]
  },
  {
   "cell_type": "code",
   "execution_count": 3,
   "metadata": {
    "collapsed": true
   },
   "outputs": [],
   "source": [
    "# get mean values of each pack\n",
    "# for modularsamples take several samples from all the sounds\n",
    "#  and average out the vaules"
   ]
  },
  {
   "cell_type": "code",
   "execution_count": null,
   "metadata": {
    "collapsed": false
   },
   "outputs": [],
   "source": [
    "# overal error\n"
   ]
  },
  {
   "cell_type": "code",
   "execution_count": 5,
   "metadata": {
    "collapsed": false
   },
   "outputs": [
    {
     "data": {
      "text/plain": [
       "-93.53356726747603"
      ]
     },
     "execution_count": 5,
     "metadata": {},
     "output_type": "execute_result"
    }
   ],
   "source": [
    "\n"
   ]
  },
  {
   "cell_type": "code",
   "execution_count": null,
   "metadata": {
    "collapsed": true
   },
   "outputs": [],
   "source": []
  }
 ],
 "metadata": {
  "kernelspec": {
   "display_name": "Python 2",
   "language": "python",
   "name": "python2"
  },
  "language_info": {
   "codemirror_mode": {
    "name": "ipython",
    "version": 2
   },
   "file_extension": ".py",
   "mimetype": "text/x-python",
   "name": "python",
   "nbconvert_exporter": "python",
   "pygments_lexer": "ipython2",
   "version": "2.7.11"
  }
 },
 "nbformat": 4,
 "nbformat_minor": 0
}
