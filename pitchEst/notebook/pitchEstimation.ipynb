{
 "cells": [
  {
   "cell_type": "markdown",
   "metadata": {},
   "source": [
    "# Freesound pitch estimation assessment\n",
    "In this document the results of the assessment of the Freesound pitch estimation algorithm will be presented and discussed."
   ]
  },
  {
   "cell_type": "code",
   "execution_count": null,
   "metadata": {
    "collapsed": false,
    "scrolled": true
   },
   "outputs": [],
   "source": [
    "import numpy as np\n",
    "import matplotlib.pyplot as plt\n",
    "%matplotlib inline\n",
    "\n",
    "from loadResults import *  # load results\n",
    "import pEstAssess as pa    # some functions to mangle the results\n"
   ]
  },
  {
   "cell_type": "markdown",
   "metadata": {},
   "source": [
    "## 1: Method\n",
    "The pitch estimation is assessed in two different manners: one uses the data calculated by Freesound at the moment a sound is uploaded; the other will be using the data calculated locally after downloading sounds from both Freesound and other sources.\n",
    "\n",
    "### 1.1: The sounds\n",
    "The sounds that are used come, as stated above, from Freesound and some non-Freesound sources. The sounds used from Freesound come from three different sources: the users Carlos Vaquero and Modular Samples and; the soundpacks containing the tag: 'good-sounds'. The non-Freesound sounds come from sources mentioned in the masterthesis '$TITLE$' of Carlos Vaquero [$REF$], namely sounds from the Philharmonia Orchestra [$REF$] and the piano pack from The University of Iowa Musical Instrument Samples (or as they call it MIS) [$REF$]. \n",
    "\n",
    "### 1.1.1: Contents of the soundpacks:\n",
    "All of the sounds are single-note sounds from either instruments or synthesisers. The sounds from the user Carlos Vaquero are recordings from different western instruments containing for example: acoustic guitar, recorders, bassoon, several bowed instruments (played plucked, bowed and with different bowing techniques). The sounds with the tag good-sounds are also single-notes of several western instruments, but only played with a 'normal' playing technique. The sounds from the user Modular Samples are all single notes played on a digital synthesiser using different presets.\n",
    "The sounds from the Philharmonia Orchestra are several (vast) collections of sounds from different instruments, played in a wide range of manners, of the orchestra. The sounds chosen here are the cello, clarinet, guitar and violin. The sounds from \n",
    "the University of IOWA contain soudns from a piano, cello, trumpet, marimba and xylophone.\n",
    "\n",
    "Below the amount of sounds contained in each pack is shown."
   ]
  },
  {
   "cell_type": "code",
   "execution_count": 2,
   "metadata": {
    "collapsed": false
   },
   "outputs": [
    {
     "name": "stdout",
     "output_type": "stream",
     "text": [
      "Amount of sounds per source:\n",
      "Freesound:\n",
      "\tCarlos Vaquero:\t\t470 sounds\n",
      "\tgood-sounds:\t\t113 sounds\n",
      "\tModular Samples:\t7112 sounds\n",
      "\tTotal:\t\t\t7695 sounds\n",
      "\n",
      "non-Freesound:\n",
      "\tPhilharmonia:\t\t3343 sounds\n",
      "\tIOWA:\t\t\t639 sounds\n",
      "\tTotal:\t\t\t3982 sounds\n",
      "\n",
      "Total sounds:\t\t\t11677 sounds\n",
      "\n"
     ]
    }
   ],
   "source": [
    "print \"Amount of sounds per source:\"\n",
    "print \"Freesound:\"\n",
    "print \"\\tCarlos Vaquero:\\t\\t\" + str(csJ_N) + \" sounds\"\n",
    "print \"\\tgood-sounds:\\t\\t\" + str(gsJ_N) + \" sounds\"\n",
    "print \"\\tModular Samples:\\t\" + str(msJ_N) + \" sounds\"\n",
    "print \"\\tTotal:\\t\\t\\t\" + str(csJ_N + gsJ_N + msJ_N) + \" sounds\\n\"\n",
    "\n",
    "print \"non-Freesound:\"\n",
    "print \"\\tPhilharmonia:\\t\\t\" + str(phE_N) + \" sounds\"\n",
    "print \"\\tIOWA:\\t\\t\\t\" + str(iwE_N) + \" sounds\"\n",
    "print \"\\tTotal:\\t\\t\\t\" + str(phE_N + iwE_N) + \" sounds\\n\"\n",
    "\n",
    "print \"Total sounds:\\t\\t\\t\" + str(csJ_N + gsJ_N + msJ_N +phE_N + iwE_N) + \" sounds\\n\""
   ]
  },
  {
   "cell_type": "markdown",
   "metadata": {},
   "source": [
    "### 1.1.2: Sampling of the soundpacks:\n",
    "What clearly stands out is that most of the sounds come from the user Modular Samples and the Philharmonia library. As the results of the pitch estimation can be dependent on the characteristics of the types of sounds and the manner in which they are recorded, the results can be influenced heavily by the characteristics and recording manner of these sounds. For this reason the error values of the Modular Samples and Philharmonia sounds will be averaged over several samples taken from all their sounds.\n",
    "\n",
    "# $DO-THE-SAMPLING$\n"
   ]
  },
  {
   "cell_type": "markdown",
   "metadata": {},
   "source": [
    "## 1.2: Assessment\n",
    "The Freesound pitch estimation is done using the pitchYinFFT algorithm contained in the Essentia library [$REF$]. The pitchYinFFT is a optimalisation for reduced calculation time of the YIN algorithm. The performance of the pitch estimation algortihm will be assessed by comparing the pitch estimated by the algorithm against the pitch annotated for that sound, taken either from the filename of the descriptions and/or tags of the sounds."
   ]
  },
  {
   "cell_type": "markdown",
   "metadata": {},
   "source": [
    "# 2: Results\n",
    "Firstly the results of the local calculation of the pitches will be compared with the data calculated by Freesound. Seconly, the correctness of the pitch estimations will be investigated  Lastly some possible factors which can predict the correctness of the estimation will be discussed, thus investigating possible improvements. The confidence measurements from the pitchYinFFT algorithm and the annotated pitches will be compared to the succes of the estimations and the values of some aural and musical descriptors will be correlated to the error values obtained in the assessment.\n"
   ]
  },
  {
   "cell_type": "markdown",
   "metadata": {},
   "source": [
    "## 2.1: Comparison of Freesound and locally calculated data\n",
    "The data is computated locally, trying to reproduce the data obtained from Freesound. The method used at uploadtime in Freesound is reproduced locally. Ideally the values obtained trough local calculation and central calculation at uploadtime will be the same, although some small differences may occur. Below are the differences obtained between the Freesounddata and the locally calculated data."
   ]
  },
  {
   "cell_type": "code",
   "execution_count": 3,
   "metadata": {
    "collapsed": false
   },
   "outputs": [
    {
     "name": "stdout",
     "output_type": "stream",
     "text": [
      "Freesound data versus local conmputed data:\n",
      "Total difference in annotated pitches:\t0.0 Hz\n",
      "\n",
      "Mean estimated pitches:\n",
      "\tFreesound: 502.847006379Hz\tLocal: 489.411388006Hz\n",
      "Mean confidence:\n",
      "\tFreesound: 0.721313577325\tLocal: 0.734029321743\n",
      "Mean salience:\n",
      "\tFreesound: 0.457803061152\tLocal: 0.456975001527\n"
     ]
    },
    {
     "ename": "NameError",
     "evalue": "name 'frsJSON_ERB' is not defined",
     "output_type": "error",
     "traceback": [
      "\u001b[1;31m---------------------------------------------------------------------------\u001b[0m",
      "\u001b[1;31mNameError\u001b[0m                                 Traceback (most recent call last)",
      "\u001b[1;32m<ipython-input-3-c077dceb3395>\u001b[0m in \u001b[0;36m<module>\u001b[1;34m()\u001b[0m\n\u001b[0;32m      6\u001b[0m \u001b[1;32mprint\u001b[0m \u001b[1;34m\"Mean confidence:\\n\\tFreesound: \"\u001b[0m \u001b[1;33m+\u001b[0m \u001b[0mstr\u001b[0m\u001b[1;33m(\u001b[0m\u001b[0mnp\u001b[0m\u001b[1;33m.\u001b[0m\u001b[0mmean\u001b[0m\u001b[1;33m(\u001b[0m\u001b[0mfrsJSON_conf\u001b[0m\u001b[1;33m)\u001b[0m\u001b[1;33m)\u001b[0m \u001b[1;33m+\u001b[0m \u001b[1;34m\"\\tLocal: \"\u001b[0m \u001b[1;33m+\u001b[0m \u001b[0mstr\u001b[0m\u001b[1;33m(\u001b[0m\u001b[0mnp\u001b[0m\u001b[1;33m.\u001b[0m\u001b[0mmean\u001b[0m\u001b[1;33m(\u001b[0m\u001b[0mfrsESS_conf\u001b[0m\u001b[1;33m)\u001b[0m\u001b[1;33m)\u001b[0m\u001b[1;33m\u001b[0m\u001b[0m\n\u001b[0;32m      7\u001b[0m \u001b[1;32mprint\u001b[0m \u001b[1;34m\"Mean salience:\\n\\tFreesound: \"\u001b[0m \u001b[1;33m+\u001b[0m \u001b[0mstr\u001b[0m\u001b[1;33m(\u001b[0m\u001b[0mnp\u001b[0m\u001b[1;33m.\u001b[0m\u001b[0mmean\u001b[0m\u001b[1;33m(\u001b[0m\u001b[0mfrsJSON_sal\u001b[0m\u001b[1;33m)\u001b[0m\u001b[1;33m)\u001b[0m \u001b[1;33m+\u001b[0m \u001b[1;34m\"\\tLocal: \"\u001b[0m \u001b[1;33m+\u001b[0m \u001b[0mstr\u001b[0m\u001b[1;33m(\u001b[0m\u001b[0mnp\u001b[0m\u001b[1;33m.\u001b[0m\u001b[0mmean\u001b[0m\u001b[1;33m(\u001b[0m\u001b[0mfrsESS_sal\u001b[0m\u001b[1;33m)\u001b[0m\u001b[1;33m)\u001b[0m\u001b[1;33m\u001b[0m\u001b[0m\n\u001b[1;32m----> 8\u001b[1;33m \u001b[1;32mprint\u001b[0m \u001b[1;34m\"Mean ERB distance:\\n\\tFreesound: \"\u001b[0m \u001b[1;33m+\u001b[0m \u001b[0mstr\u001b[0m\u001b[1;33m(\u001b[0m\u001b[0mnp\u001b[0m\u001b[1;33m.\u001b[0m\u001b[0mmean\u001b[0m\u001b[1;33m(\u001b[0m\u001b[0mabs\u001b[0m\u001b[1;33m(\u001b[0m\u001b[0mfrsJSON_ERB\u001b[0m\u001b[1;33m)\u001b[0m\u001b[1;33m)\u001b[0m\u001b[1;33m)\u001b[0m \u001b[1;33m+\u001b[0m \u001b[1;34m\" ERBs\\tLocal: \"\u001b[0m \u001b[1;33m+\u001b[0m \u001b[0mstr\u001b[0m\u001b[1;33m(\u001b[0m\u001b[0mnp\u001b[0m\u001b[1;33m.\u001b[0m\u001b[0mmean\u001b[0m\u001b[1;33m(\u001b[0m\u001b[0mabs\u001b[0m\u001b[1;33m(\u001b[0m\u001b[0mfrsESS_ERB\u001b[0m\u001b[1;33m)\u001b[0m\u001b[1;33m)\u001b[0m\u001b[1;33m)\u001b[0m \u001b[1;33m+\u001b[0m \u001b[1;34m\" ERBs\"\u001b[0m\u001b[1;33m\u001b[0m\u001b[0m\n\u001b[0m\u001b[0;32m      9\u001b[0m \u001b[1;32mprint\u001b[0m \u001b[1;34m\"Mean semitone distance:\\n\\tFreesound: \"\u001b[0m \u001b[1;33m+\u001b[0m \u001b[0mstr\u001b[0m\u001b[1;33m(\u001b[0m\u001b[0mnp\u001b[0m\u001b[1;33m.\u001b[0m\u001b[0mmean\u001b[0m\u001b[1;33m(\u001b[0m\u001b[0mabs\u001b[0m\u001b[1;33m(\u001b[0m\u001b[0mfrsJSON_st\u001b[0m\u001b[1;33m)\u001b[0m\u001b[1;33m)\u001b[0m\u001b[1;33m)\u001b[0m \u001b[1;33m+\u001b[0m \u001b[1;34m\" st.\\tLocal: \"\u001b[0m \u001b[1;33m+\u001b[0m \u001b[0mstr\u001b[0m\u001b[1;33m(\u001b[0m\u001b[0mnp\u001b[0m\u001b[1;33m.\u001b[0m\u001b[0mmean\u001b[0m\u001b[1;33m(\u001b[0m\u001b[0mabs\u001b[0m\u001b[1;33m(\u001b[0m\u001b[0mfrsESS_st\u001b[0m\u001b[1;33m)\u001b[0m\u001b[1;33m)\u001b[0m\u001b[1;33m)\u001b[0m \u001b[1;33m+\u001b[0m \u001b[1;34m\" st.\\n\"\u001b[0m\u001b[1;33m\u001b[0m\u001b[0m\n\u001b[0;32m     10\u001b[0m \u001b[1;33m\u001b[0m\u001b[0m\n",
      "\u001b[1;31mNameError\u001b[0m: name 'frsJSON_ERB' is not defined"
     ]
    }
   ],
   "source": [
    "# compare Freesound data and locally calculated data:\n",
    "print \"Freesound data versus local conmputed data:\"\n",
    "print \"Total difference in annotated pitches:\\t\" + str(np.sum(abs(frsJSON_pTag - frsESS_pTag))) + \" Hz\\n\" # check whether the order of the sound is the same.\n",
    "\n",
    "print \"Mean estimated pitches:\\n\\tFreesound: \" + str(np.mean(frsJSON_pEst)) + \"Hz\\tLocal: \" + str(np.mean(frsESS_pEst)) + \"Hz\"\n",
    "print \"Mean confidence:\\n\\tFreesound: \" + str(np.mean(frsJSON_conf)) + \"\\tLocal: \" + str(np.mean(frsESS_conf))\n",
    "print \"Mean salience:\\n\\tFreesound: \" + str(np.mean(frsJSON_sal)) + \"\\tLocal: \" + str(np.mean(frsESS_sal))\n",
    "print \"Mean ERB distance:\\n\\tFreesound: \" + str(np.mean(abs(frsJSON_ERB))) + \" ERBs\\tLocal: \" + str(np.mean(abs(frsESS_ERB))) + \" ERBs\"\n",
    "print \"Mean semitone distance:\\n\\tFreesound: \" + str(np.mean(abs(frsJSON_st))) + \" st.\\tLocal: \" + str(np.mean(abs(frsESS_st))) + \" st.\\n\"\n",
    "\n",
    "\n",
    "print \"Mean difference in estimated pitches:\\t\" + str(np.mean(abs(frsJSON_pEst - frsESS_pEst))) + \" Hz\" + \",\\t(σ: \" + str(np.std(abs(frsJSON_pEst - frsESS_pEst))) + \" Hz)\"\n",
    "print \"Mean difference in confidence:\\t\\t\" + str(np.mean(abs(frsJSON_conf - frsESS_conf))) + \",\\t(σ: \" + str(np.std(abs(frsJSON_conf - frsESS_conf))) + \")\"\n",
    "print \"Mean difference in salience:\\t\\t\" + str(np.mean(abs(frsJSON_sal - frsESS_sal))) + \",\\t(σ: \" + str(np.std(abs(frsJSON_conf - frsESS_conf))) + \")\"\n",
    "frsJSON_ERB = pa.ERBdist(frsJSON_pTag, frsJSON_pEst); frsESS_ERB = pa.ERBdist(frsESS_pTag, frsESS_pEst);\n",
    "print \"Mean difference in ERB distance:\\t\" + str(np.mean(abs(frsJSON_ERB - frsESS_ERB))) + \",\\t\\t(σ: \" + str(np.std(abs(frsJSON_ERB - frsESS_ERB))) + \")\"\n",
    "frsJSON_st = pa.semitoneDist(frsJSON_pTag, frsJSON_pEst); frsESS_st = pa.semitoneDist(frsESS_pTag, frsESS_pEst);\n",
    "print \"Mean difference in semitone distance:\\t\" + str(np.mean(abs(frsJSON_st - frsESS_st))) + \",\\t\\t(σ: \" + str(np.std(abs(frsJSON_st - frsESS_st))) + \")\\n\"\n",
    "\n",
    "print \"Minimal and maximal values:\"\n",
    "print \"Estimated pitches:\"\n",
    "print \"\\tFreesound:\\t[\" + str(min(frsJSON_pEst)) + \"Hz, \" + str(max(frsJSON_pEst)) + \"Hz]\"\n",
    "print \"\\tLocal:\\t\\t[\" + str(min(frsESS_pEst)) + \"Hz, \" + str(max(frsESS_pEst)) + \"Hz]\"\n",
    "print \"Confidences:\"\n",
    "print \"\\tFreesound:\\t[\" + str(min(frsJSON_conf)) + \"Hz, \" + str(max(frsJSON_conf)) + \"Hz]\"\n",
    "print \"\\tLocal:\\t\\t[\" + str(min(frsESS_conf)) + \"Hz, \" + str(max(frsESS_conf)) + \"Hz]\"\n",
    "print \"Saliences:\"\n",
    "print \"\\tFreesound:\\t[\" + str(min(frsJSON_sal)) + \"Hz, \" + str(max(frsJSON_sal)) + \"Hz]\"\n",
    "print \"\\tLocal:\\t\\t[\" + str(min(frsESS_sal)) + \"Hz, \" + str(max(frsESS_sal)) + \"Hz]\""
   ]
  },
  {
   "cell_type": "code",
   "execution_count": 4,
   "metadata": {
    "collapsed": false
   },
   "outputs": [
    {
     "name": "stdout",
     "output_type": "stream",
     "text": [
      "Mean estimated pitch difference per pack:\n",
      "Carlos:\t\t\t12.6963153164 Hz,\t(σ: 21.3211130282 Hz)\n",
      "Good-sounds:\t\t14.4762112202 Hz,\t(σ: 16.5183777651 Hz)\n",
      "Modular Samples:\t54.5561234251 Hz,\t(σ: 226.605714108 Hz)\n",
      "\n",
      "Mean confidence difference per pack:\n",
      "Carlos:\t\t\t0.0155595533406,\t(σ: 0.0108698961299)\n",
      "Good-sounds:\t\t0.012901073966,\t\t(σ: 0.00954355398069)\n",
      "Modular Samples:\t0.017030749374,\t\t(σ: 0.0154209541027)\n",
      "\n",
      "Mean salience difference per pack:\n",
      "Carlos:\t\t\t0.0165195327063,\t(σ: 0.0193645125788)\n",
      "Good-sounds:\t\t0.0164239860916,\t(σ: 0.0202735816666)\n",
      "Modular Samples:\t0.0296465692053,\t(σ: 0.0403292301654)\n",
      "\n",
      "Mean ERB distance per pack:\n",
      "Carlos:\t\t\t0.442553191489,\t\t(σ: 0.819897419855)\n",
      "Good-sounds:\t\t0.46017699115,\t\t(σ: 0.678825094186)\n",
      "Modular Samples:\t1.15902699663,\t\t(σ: 3.28015860106)\n",
      "\n"
     ]
    }
   ],
   "source": [
    "print \"Mean estimated pitch difference per pack:\"\n",
    "print \"Carlos:\\t\\t\\t\" + str(np.mean(abs(csJ_pEst - csE_pEst))) + \" Hz\" + \",\\t(σ: \" + str(np.std(abs(csJ_pEst - csE_pEst))) + \" Hz)\"\n",
    "print \"Good-sounds:\\t\\t\" + str(np.mean(abs(gsJ_pEst - gsE_pEst))) + \" Hz\" + \",\\t(σ: \" + str(np.std(abs(gsJ_pEst - gsE_pEst))) + \" Hz)\"\n",
    "print \"Modular Samples:\\t\" + str(np.mean(abs(msJ_pEst - msE_pEst))) + \" Hz\" + \",\\t(σ: \" + str(np.std(abs(msJ_pEst - msE_pEst))) + \" Hz)\\n\"\n",
    "\n",
    "print \"Mean confidence difference per pack:\"\n",
    "print \"Carlos:\\t\\t\\t\" + str(np.mean(abs(csJ_conf - csE_conf))) + \",\\t(σ: \" + str(np.std(abs(csJ_conf - csE_conf))) + \")\"\n",
    "print \"Good-sounds:\\t\\t\" + str(np.mean(abs(gsJ_conf - gsE_conf))) + \",\\t\\t(σ: \" + str(np.std(abs(gsJ_conf - gsE_conf))) + \")\"\n",
    "print \"Modular Samples:\\t\" + str(np.mean(abs(msJ_conf - msE_conf))) + \",\\t\\t(σ: \" + str(np.std(abs(msJ_conf - msE_conf))) + \")\\n\"\n",
    "\n",
    "print \"Mean salience difference per pack:\"\n",
    "print \"Carlos:\\t\\t\\t\" + str(np.mean(abs(csJ_sal - csE_sal))) + \",\\t(σ: \" + str(np.std(abs(csJ_sal - csE_sal))) + \")\"\n",
    "print \"Good-sounds:\\t\\t\" + str(np.mean(abs(gsJ_sal - gsE_sal))) + \",\\t(σ: \" + str(np.std(abs(gsJ_sal - gsE_sal))) + \")\"\n",
    "print \"Modular Samples:\\t\" + str(np.mean(abs(msJ_sal - msE_sal)))+ \",\\t(σ: \" + str(np.std(abs(msJ_sal - msE_sal))) + \")\\n\"\n",
    "\n",
    "print \"Mean ERB distance per pack:\"\n",
    "csJ_ERB = pa.ERBdist(csJ_pTag, csJ_pEst); csE_ERB = pa.ERBdist(csE_pTag, csE_pEst);\n",
    "print \"Carlos:\\t\\t\\t\" + str(np.mean(abs(csJ_ERB - csE_ERB))) + \",\\t\\t(σ: \" + str(np.std(abs(csJ_ERB - csE_ERB))) + \")\"\n",
    "gsJ_ERB = pa.ERBdist(gsJ_pTag, gsJ_pEst); gsE_ERB = pa.ERBdist(gsE_pTag, gsE_pEst);\n",
    "print \"Good-sounds:\\t\\t\" + str(np.mean(abs(gsJ_ERB - gsE_ERB))) + \",\\t\\t(σ: \" + str(np.std(abs(gsJ_ERB - gsE_ERB))) + \")\"\n",
    "msJ_ERB = pa.ERBdist(msJ_pTag, msJ_pEst); msE_ERB = pa.ERBdist(msE_pTag, msE_pEst);\n",
    "print \"Modular Samples:\\t\" + str(np.mean(abs(msJ_ERB - msE_ERB))) + \",\\t\\t(σ: \" + str(np.std(abs(msJ_ERB - msE_ERB))) + \")\\n\"\n"
   ]
  },
  {
   "cell_type": "markdown",
   "metadata": {},
   "source": [
    "The data obtained from Freesound and the locally computated data are similar enough to focus on the locally computed data in the rest of the assessment."
   ]
  },
  {
   "cell_type": "markdown",
   "metadata": {},
   "source": [
    "## 2.2: Pitch assessment\n",
    "### 2.2.1: Mean errors:\n",
    "The error is calculated by subtracting the estimated pitch from the annotated pitch."
   ]
  },
  {
   "cell_type": "code",
   "execution_count": 5,
   "metadata": {
    "collapsed": false
   },
   "outputs": [
    {
     "name": "stdout",
     "output_type": "stream",
     "text": [
      "Mean error: -398.121681563 Hz,\t(σ: 1495.70035375 Hz)\n"
     ]
    },
    {
     "data": {
      "image/png": "[encoded data removed]",
      "text/plain": [
       "<matplotlib.figure.Figure at 0x7f5470c09550>"
      ]
     },
     "metadata": {},
     "output_type": "display_data"
    },
    {
     "name": "stdout",
     "output_type": "stream",
     "text": [
      "percentage of sound with annotated pitch > estimated pitch: 48.8310353687%\n",
      "\n",
      "Mean of absolute errors: 682.792596858 Hz, (σ: 1389.03372572 Hz)\n",
      "\n",
      "Mean distances:\n",
      "\tin Equivalent Rectangular Bandwidths (ERBs):\t10.2247152522 ERBs,\t(σ: 11.8974391251 ERBs)\n",
      "\tin semitones:\t\t\t\t\t15.40428468 st.,\t(σ: 17.3742759831 st.)\n"
     ]
    }
   ],
   "source": [
    "print \"Mean error: \" + str(np.mean(ESS_err)) + \" Hz,\\t(σ: \" + str(np.std(ESS_err)) + \" Hz)\"\n",
    "plt.hist(ESS_err, bins=50);\n",
    "plt.title(\"Error distribution (annotated - estimated)\")\n",
    "plt.xlabel(\"error (Hz)\")\n",
    "plt.ylabel(\"sounds (N=11677)\")\n",
    "plt.show()\n",
    "N = len(ESS_err)\n",
    "print \"percentage of sound with annotated pitch > estimated pitch: \" + str(len(np.where(ESS_err > 0)[0]) / float(N) * 100) + \"%\\n\"\n",
    "print \"Mean of absolute errors: \" + str(np.mean(abs(ESS_err))) + \" Hz, (σ: \" + str(np.std(abs(ESS_err))) + \" Hz)\\n\"\n",
    "\n",
    "print \"Mean distances:\"\n",
    "ESS_ERB = pa.ERBdist(ESS_pTag, ESS_pEst);\n",
    "print \"\\tin Equivalent Rectangular Bandwidths (ERBs):\\t\" + str(np.mean(abs(ESS_ERB))) + \" ERBs,\\t(σ: \" + str(np.std(abs(ESS_ERB))) + \" ERBs)\"\n",
    "ESS_st = pa.semitoneDist(ESS_pTag, ESS_pEst);\n",
    "print \"\\tin semitones:\\t\\t\\t\\t\\t\" + str(np.mean(abs(ESS_st))) + \" st.,\\t(σ: \" + str(np.std(abs(ESS_st))) + \" st.)\""
   ]
  },
  {
   "cell_type": "code",
   "execution_count": 6,
   "metadata": {
    "collapsed": false
   },
   "outputs": [
    {
     "name": "stdout",
     "output_type": "stream",
     "text": [
      "Mean absolute error per pack:\n",
      "\tCarlos Vaquero:\t\t324.560556115 Hz,\t(σ: 915.430990078) Hz\n",
      "\tgood-sounds:\t\t63.7242028072 Hz,\t(σ: 132.896954675) Hz\n",
      "\tModular Samples:\t976.729097772 Hz,\t(σ: 1645.59142828) Hz\n",
      "\tPhilharmonia:\t\t197.788403323 Hz,\t(σ: 541.378087422) Hz\n",
      "\tIOWA:\t\t\t321.628922631 Hz,\t(σ: 693.374528765) Hz\n",
      "\n",
      "Total error:\t\t\t682.792596858 Hz,\t(σ: 1389.03372572) Hz\n"
     ]
    }
   ],
   "source": [
    "print \"Mean absolute error per pack:\"\n",
    "print \"\\tCarlos Vaquero:\\t\\t\" + str(np.mean(abs(csE_err))) + \" Hz,\\t(σ: \" + str(np.std(abs(csE_err))) + \") Hz\"\n",
    "print \"\\tgood-sounds:\\t\\t\" + str(np.mean(abs(gsE_err))) + \" Hz,\\t(σ: \" + str(np.std(abs(gsE_err))) + \") Hz\"\n",
    "print \"\\tModular Samples:\\t\" + str(np.mean(abs(msE_err))) + \" Hz,\\t(σ: \" + str(np.std(abs(msE_err))) + \") Hz\"\n",
    "print \"\\tPhilharmonia:\\t\\t\" + str(np.mean(abs(phE_err))) + \" Hz,\\t(σ: \" + str(np.std(abs(phE_err))) + \") Hz\"\n",
    "print \"\\tIOWA:\\t\\t\\t\" + str(np.mean(abs(iwE_err))) + \" Hz,\\t(σ: \" + str(np.std(abs(iwE_err))) + \") Hz\\n\"\n",
    "\n",
    "print \"Total error:\\t\\t\\t\" + str(np.mean(abs(ESS_err))) + \" Hz,\\t(σ: \" + str(np.std(abs(ESS_err))) + \") Hz\""
   ]
  },
  {
   "cell_type": "code",
   "execution_count": 7,
   "metadata": {
    "collapsed": false
   },
   "outputs": [
    {
     "data": {
      "image/png": "[encoded data removed]",
      "text/plain": [
       "<matplotlib.figure.Figure at 0x7f5470c13290>"
      ]
     },
     "metadata": {},
     "output_type": "display_data"
    },
    {
     "data": {
      "image/png": "[encoded data removed]",
      "text/plain": [
       "<matplotlib.figure.Figure at 0x7f5470a23fd0>"
      ]
     },
     "metadata": {},
     "output_type": "display_data"
    }
   ],
   "source": [
    "plt.hist(ESS_ERB, bins=25);\n",
    "plt.title(\"ERB errors\")\n",
    "plt.xlabel(\"ERB distance\")\n",
    "plt.show()\n",
    "\n",
    "plt.hist(ESS_st, bins = 40);\n",
    "plt.title(\"Semitone errors\")\n",
    "plt.xlabel(\"Semitone difference\")\n",
    "plt.show()"
   ]
  },
  {
   "cell_type": "code",
   "execution_count": 8,
   "metadata": {
    "collapsed": false
   },
   "outputs": [
    {
     "name": "stdout",
     "output_type": "stream",
     "text": [
      "Percentage of estimations with an ERB distance less than 2:\t\t24.655305301%\n",
      "Percentage of estimations with semitone distance less than 1:\t\t19.8081699067%\n",
      "\n",
      "Percentage of estimations with an ERB distance less than mean:\t\t69.0588336045%\n",
      "Percentage of estimations with semitone distance less than mean:\t65.8388284662%\n"
     ]
    }
   ],
   "source": [
    "i_ERB_gt_1 = np.where(abs(ESS_ERB) > 1)[0]\n",
    "i_ERB_lt_2 = np.where(abs(ESS_ERB) < 2)[0]\n",
    "print \"Percentage of estimations with an ERB distance less than 2:\\t\\t\" + str(len(i_ERB_lt_2) / float(N) * 100) + \"%\"\n",
    "\n",
    "i_st_gt_1 = np.where(abs(ESS_st) >= 1)[0]\n",
    "i_st_lt_1 = np.where(abs(ESS_st) < 1)[0]\n",
    "print \"Percentage of estimations with semitone distance less than 1:\\t\\t\" + str(len(i_st_lt_1) / float(N) * 100) + \"%\\n\"\n",
    "\n",
    "i_ERB_gt_mu = np.where(abs(ESS_ERB) >= np.mean(abs(ESS_ERB)))[0]\n",
    "i_ERB_lt_mu = np.where(abs(ESS_ERB) < np.mean(abs(ESS_ERB)))[0]\n",
    "print \"Percentage of estimations with an ERB distance less than mean:\\t\\t\" + str(len(i_ERB_lt_mu) / float(N) * 100) + \"%\"\n",
    "\n",
    "i_st_gt_mu = np.where(abs(ESS_st) >= np.mean(abs(ESS_st)))[0]\n",
    "i_st_lt_mu = np.where(abs(ESS_st) < np.mean(abs(ESS_st)))[0]\n",
    "print \"Percentage of estimations with semitone distance less than mean:\\t\" + str(len(i_st_lt_mu) / float(N) * 100) + \"%\"\n",
    "\n"
   ]
  },
  {
   "cell_type": "code",
   "execution_count": 9,
   "metadata": {
    "collapsed": false
   },
   "outputs": [
    {
     "name": "stdout",
     "output_type": "stream",
     "text": [
      "Percentages of correct estimations per pack:\n",
      "Percentage of ERB < 2:\n",
      "\tCarlos Vaquero:\t\t1.26744883104%\n",
      "\tgood-sounds:\t\t0.590905198253%\n",
      "\tModular Samples:\t6.17453112957%\n",
      "\tPhilharmonia:\t\t14.6698638349%\n",
      "\tIOWA:\t\t\t1.95255630727%\n",
      "\n",
      "Percentage of ERB < mean:\n",
      "\tCarlos Vaquero:\t\t2.54346150552%\n",
      "\tgood-sounds:\t\t0.590905198253%\n",
      "\tModular Samples:\t38.8712854329%\n",
      "\tPhilharmonia:\t\t21.7264708401%\n",
      "\tIOWA:\t\t\t3.87942108418%\n",
      "\n",
      "Percentage of st < 1:\n",
      "\tCarlos Vaquero:\t\t1.43872570009%\n",
      "\tgood-sounds:\t\t0.685107476235%\n",
      "\tModular Samples:\t6.38862721589%\n",
      "\tPhilharmonia:\t\t16.5710370814%\n",
      "\tIOWA:\t\t\t2.14096086324%\n",
      "\n",
      "Percentage of st < mean:\n",
      "\tCarlos Vaquero:\t\t2.42356769718%\n",
      "\tgood-sounds:\t\t0.685107476235%\n",
      "\tModular Samples:\t35.3087265565%\n",
      "\tPhilharmonia:\t\t21.2640232937%\n",
      "\tIOWA:\t\t\t3.69101652822%\n",
      "\n"
     ]
    }
   ],
   "source": [
    "print \"Percentages of correct estimations per pack:\"\n",
    "cs_ERB = pa.ERBdist(csE_pTag, csE_pEst);\n",
    "cs_i_ERB_lt_2 = np.where(abs(cs_ERB) < 2)[0]; cs_i_ERB_lt_mu = np.where(abs(cs_ERB) < np.mean(abs(cs_ERB)))[0]\n",
    "gs_ERB = pa.ERBdist(gsE_pTag, gsE_pEst);\n",
    "gs_i_ERB_lt_2 = np.where(abs(gs_ERB) < 2)[0]; gs_i_ERB_lt_mu = np.where(abs(gs_ERB) < np.mean(abs(gs_ERB)))[0];\n",
    "ms_ERB = pa.ERBdist(msE_pTag, msE_pEst);\n",
    "ms_i_ERB_lt_2 = np.where(abs(ms_ERB) < 2)[0]; ms_i_ERB_lt_mu = np.where(abs(ms_ERB) < np.mean(abs(ms_ERB)))[0];\n",
    "ph_ERB = pa.ERBdist(phE_pTag, phE_pEst);\n",
    "ph_i_ERB_lt_2 = np.where(abs(ph_ERB) < 2)[0]; ph_i_ERB_lt_mu = np.where(abs(ph_ERB) < np.mean(abs(ph_ERB)))[0];\n",
    "iw_ERB = pa.ERBdist(iwE_pTag, iwE_pEst);\n",
    "iw_i_ERB_lt_2 = np.where(abs(iw_ERB) < 2)[0]; iw_i_ERB_lt_mu = np.where(abs(iw_ERB) < np.mean(abs(iw_ERB)))[0];\n",
    "print \"Percentage of ERB < 2:\"\n",
    "print \"\\tCarlos Vaquero:\\t\\t\" + str(len(cs_i_ERB_lt_2) / float(N) * 100) + \"%\"\n",
    "print \"\\tgood-sounds:\\t\\t\" + str(len(gs_i_ERB_lt_2) / float(N) * 100) + \"%\"\n",
    "print \"\\tModular Samples:\\t\"  + str(len(ms_i_ERB_lt_2) / float(N) * 100) + \"%\"\n",
    "print \"\\tPhilharmonia:\\t\\t\" + str(len(ph_i_ERB_lt_2) / float(N) * 100) + \"%\"\n",
    "print \"\\tIOWA:\\t\\t\\t\" + str(len(iw_i_ERB_lt_2) / float(N) * 100) + \"%\\n\"\n",
    "\n",
    "print \"Percentage of ERB < mean:\"\n",
    "print \"\\tCarlos Vaquero:\\t\\t\" + str(len(cs_i_ERB_lt_mu) / float(N) * 100) + \"%\"\n",
    "print \"\\tgood-sounds:\\t\\t\" + str(len(gs_i_ERB_lt_mu) / float(N) * 100) + \"%\"\n",
    "print \"\\tModular Samples:\\t\"  + str(len(ms_i_ERB_lt_mu) / float(N) * 100) + \"%\"\n",
    "print \"\\tPhilharmonia:\\t\\t\" + str(len(ph_i_ERB_lt_mu) / float(N) * 100) + \"%\"\n",
    "print \"\\tIOWA:\\t\\t\\t\" + str(len(iw_i_ERB_lt_mu) / float(N) * 100) + \"%\\n\"\n",
    "\n",
    "cs_st = pa.semitoneDist(csE_pTag, csE_pEst);\n",
    "cs_i_st_lt_1 = np.where(abs(cs_st) < 2)[0]; cs_i_st_lt_mu = np.where(abs(cs_st) < np.mean(abs(cs_st)))[0]\n",
    "gs_st = pa.semitoneDist(gsE_pTag, gsE_pEst);\n",
    "gs_i_st_lt_1 = np.where(abs(gs_st) < 2)[0]; gs_i_st_lt_mu = np.where(abs(gs_st) < np.mean(abs(gs_st)))[0];\n",
    "ms_st = pa.semitoneDist(msE_pTag, msE_pEst);\n",
    "ms_i_st_lt_1 = np.where(abs(ms_st) < 2)[0]; ms_i_st_lt_mu = np.where(abs(ms_st) < np.mean(abs(ms_st)))[0];\n",
    "ph_st = pa.semitoneDist(phE_pTag, phE_pEst);\n",
    "ph_i_st_lt_1 = np.where(abs(ph_st) < 2)[0]; ph_i_st_lt_mu = np.where(abs(ph_st) < np.mean(abs(ph_st)))[0];\n",
    "iw_st = pa.semitoneDist(iwE_pTag, iwE_pEst);\n",
    "iw_i_st_lt_1 = np.where(abs(iw_st) < 2)[0]; iw_i_st_lt_mu = np.where(abs(iw_st) < np.mean(abs(iw_st)))[0];\n",
    "print \"Percentage of st < 1:\"\n",
    "print \"\\tCarlos Vaquero:\\t\\t\" + str(len(cs_i_st_lt_1) / float(N) * 100) + \"%\"\n",
    "print \"\\tgood-sounds:\\t\\t\" + str(len(gs_i_st_lt_1) / float(N) * 100) + \"%\"\n",
    "print \"\\tModular Samples:\\t\"  + str(len(ms_i_st_lt_1) / float(N) * 100) + \"%\"\n",
    "print \"\\tPhilharmonia:\\t\\t\" + str(len(ph_i_st_lt_1) / float(N) * 100) + \"%\"\n",
    "print \"\\tIOWA:\\t\\t\\t\" + str(len(iw_i_st_lt_1) / float(N) * 100) + \"%\\n\"\n",
    "\n",
    "print \"Percentage of st < mean:\"\n",
    "print \"\\tCarlos Vaquero:\\t\\t\" + str(len(cs_i_st_lt_mu) / float(N) * 100) + \"%\"\n",
    "print \"\\tgood-sounds:\\t\\t\" + str(len(gs_i_st_lt_mu) / float(N) * 100) + \"%\"\n",
    "print \"\\tModular Samples:\\t\"  + str(len(ms_i_st_lt_mu) / float(N) * 100) + \"%\"\n",
    "print \"\\tPhilharmonia:\\t\\t\" + str(len(ph_i_st_lt_mu) / float(N) * 100) + \"%\"\n",
    "print \"\\tIOWA:\\t\\t\\t\" + str(len(iw_i_st_lt_mu) / float(N) * 100) + \"%\\n\"\n",
    "\n",
    "\n",
    "\n"
   ]
  },
  {
   "cell_type": "markdown",
   "metadata": {},
   "source": [
    "### 2.2.2: Confidence and Salience\n",
    "The pitch estimation algorithm also gives a confidence measurement, ideally this would be a predictor for the estimation errors. Also the Freesound extractor calculates a salience measurement, which will indicate how much tonal information the signal contains. In theory this could also be a predictor for the succes of the pitch estimation algorithm."
   ]
  },
  {
   "cell_type": "code",
   "execution_count": 10,
   "metadata": {
    "collapsed": false
   },
   "outputs": [
    {
     "name": "stdout",
     "output_type": "stream",
     "text": [
      "Mean confidence:\t0.759112979937, (σ: 0.196972893496)\n",
      "Mean salience:\t\t0.441896765561, (σ: 0.161220811628)\n"
     ]
    },
    {
     "data": {
      "image/png": "[encoded data removed]",
      "text/plain": [
       "<matplotlib.figure.Figure at 0x7f5470c09250>"
      ]
     },
     "metadata": {},
     "output_type": "display_data"
    },
    {
     "data": {
      "image/png": "[encoded data removed]",
      "text/plain": [
       "<matplotlib.figure.Figure at 0x7f5470961290>"
      ]
     },
     "metadata": {},
     "output_type": "display_data"
    }
   ],
   "source": [
    "print \"Mean confidence:\\t\" + str(np.mean(ESS_conf)) + \", (σ: \" + str(np.std(ESS_conf)) + \")\"\n",
    "print \"Mean salience:\\t\\t\" + str(np.mean(ESS_sal)) + \", (σ: \" + str(np.std(ESS_sal)) + \")\"\n",
    "\n",
    "plt.hist(ESS_conf, bins = 100)\n",
    "plt.title(\"Confidence measurement\")\n",
    "plt.xlabel(\"confidence\")\n",
    "plt.ylabel(\"sounds (N=11677)\")\n",
    "plt.show()\n",
    "\n",
    "plt.hist(ESS_sal, bins = 100)\n",
    "plt.title(\"Salience measurement\")\n",
    "plt.xlabel(\"salience\")\n",
    "plt.ylabel(\"sounds (N=11677)\")\n",
    "plt.show()\n"
   ]
  },
  {
   "cell_type": "markdown",
   "metadata": {},
   "source": [
    "### 2.2.3: Octave errors:\n",
    "The octave errors do not add much to the overall error:"
   ]
  },
  {
   "cell_type": "code",
   "execution_count": 11,
   "metadata": {
    "collapsed": false
   },
   "outputs": [
    {
     "name": "stdout",
     "output_type": "stream",
     "text": [
      "Octave errors:\n",
      "percentage of octave errors: 4.76149695984%\n",
      "Mean of absolute errors:\n",
      "\tincluding octave errors:\t682.792596858 Hz,\t(σ: 1389.03372572 Hz)\n",
      "\texcluding octave errors:\t682.688411207 Hz,\t(σ: 1403.2101436 Hz)\n"
     ]
    }
   ],
   "source": [
    "print \"Octave errors:\"\n",
    "octErr = pa.isOctErr(ESS_pTag, ESS_pEst)\n",
    "print \"percentage of octave errors: \" + str(len(np.where(octErr != 0)[0]) / float(len(ESS_pTag)) * 100) + \"%\"\n",
    "i_XoctErr = np.where(octErr == 0);\n",
    "print \"Mean of absolute errors:\" \n",
    "print \"\\tincluding octave errors:\\t\"+ str(np.mean(abs(ESS_err))) + \" Hz,\\t(σ: \" + str(np.std(abs(ESS_err))) + \" Hz)\"\n",
    "print \"\\texcluding octave errors:\\t\" + str(np.mean(abs(ESS_err[i_XoctErr]))) + \" Hz,\\t(σ: \" + str(np.std(abs(ESS_err[i_XoctErr]))) + \" Hz)\""
   ]
  },
  {
   "cell_type": "markdown",
   "metadata": {},
   "source": [
    "## 2.3: Predictors:\n",
    "What values can predict the error rates?"
   ]
  },
  {
   "cell_type": "markdown",
   "metadata": {},
   "source": [
    "### 2.3.1: Confidence, salience and annotated pitch:"
   ]
  },
  {
   "cell_type": "code",
   "execution_count": 12,
   "metadata": {
    "collapsed": false
   },
   "outputs": [
    {
     "name": "stdout",
     "output_type": "stream",
     "text": [
      "Confidence:\n",
      "Percentage of sounds with a confidence above mean confidence: 60.0068510748%\n"
     ]
    },
    {
     "ename": "ValueError",
     "evalue": "could not convert string to float: tP",
     "output_type": "error",
     "traceback": [
      "\u001b[1;31m---------------------------------------------------------------------------\u001b[0m",
      "\u001b[1;31mValueError\u001b[0m                                Traceback (most recent call last)",
      "\u001b[1;32m<ipython-input-12-b477edd445fd>\u001b[0m in \u001b[0;36m<module>\u001b[1;34m()\u001b[0m\n\u001b[0;32m      3\u001b[0m \u001b[1;32mprint\u001b[0m \u001b[1;34m\"Percentage of sounds with a confidence above mean confidence: \"\u001b[0m \u001b[1;33m+\u001b[0m \u001b[0mstr\u001b[0m\u001b[1;33m(\u001b[0m\u001b[0mlen\u001b[0m\u001b[1;33m(\u001b[0m\u001b[0mi_hiConf\u001b[0m\u001b[1;33m)\u001b[0m \u001b[1;33m/\u001b[0m \u001b[0mfloat\u001b[0m\u001b[1;33m(\u001b[0m\u001b[0mN\u001b[0m\u001b[1;33m)\u001b[0m \u001b[1;33m*\u001b[0m \u001b[1;36m100\u001b[0m\u001b[1;33m)\u001b[0m \u001b[1;33m+\u001b[0m \u001b[1;34m\"%\"\u001b[0m\u001b[1;33m\u001b[0m\u001b[0m\n\u001b[0;32m      4\u001b[0m \u001b[1;33m\u001b[0m\u001b[0m\n\u001b[1;32m----> 5\u001b[1;33m \u001b[0mpa\u001b[0m\u001b[1;33m.\u001b[0m\u001b[0mpredict\u001b[0m\u001b[1;33m(\u001b[0m\u001b[0mESS_conf\u001b[0m\u001b[1;33m,\u001b[0m \u001b[0mESS_err\u001b[0m\u001b[1;33m,\u001b[0m \u001b[0mplot\u001b[0m\u001b[1;33m=\u001b[0m\u001b[1;36m1\u001b[0m\u001b[1;33m)\u001b[0m\u001b[1;33m;\u001b[0m\u001b[1;33m\u001b[0m\u001b[0m\n\u001b[0m",
      "\u001b[1;32m/media/data/studie/mtg/src/pitchEst/notebook/pEstAssess.py\u001b[0m in \u001b[0;36mpredict\u001b[1;34m(pr, ev, pr_th, ev_th, plot)\u001b[0m\n\u001b[0;32m     75\u001b[0m \u001b[1;33m\u001b[0m\u001b[0m\n\u001b[0;32m     76\u001b[0m     \u001b[1;32mif\u001b[0m \u001b[0mplot\u001b[0m \u001b[1;33m==\u001b[0m \u001b[1;36m1\u001b[0m\u001b[1;33m:\u001b[0m\u001b[1;33m\u001b[0m\u001b[0m\n\u001b[1;32m---> 77\u001b[1;33m         \u001b[0mplt\u001b[0m\u001b[1;33m.\u001b[0m\u001b[0mplot\u001b[0m\u001b[1;33m(\u001b[0m\u001b[0mpr\u001b[0m\u001b[1;33m[\u001b[0m\u001b[0mtP\u001b[0m\u001b[1;33m]\u001b[0m\u001b[1;33m,\u001b[0m \u001b[0mev\u001b[0m\u001b[1;33m[\u001b[0m\u001b[0mtP\u001b[0m\u001b[1;33m]\u001b[0m\u001b[1;33m,\u001b[0m \u001b[1;34m'.'\u001b[0m\u001b[1;33m,\u001b[0m \u001b[1;34m'tP'\u001b[0m\u001b[1;33m)\u001b[0m\u001b[1;33m\u001b[0m\u001b[0m\n\u001b[0m\u001b[0;32m     78\u001b[0m         \u001b[0mplt\u001b[0m\u001b[1;33m.\u001b[0m\u001b[0mplot\u001b[0m\u001b[1;33m(\u001b[0m\u001b[1;33m[\u001b[0m\u001b[0mpr_mu\u001b[0m \u001b[1;33m*\u001b[0m \u001b[1;36m0.9999999\u001b[0m\u001b[1;33m,\u001b[0m \u001b[0mpr_mu\u001b[0m\u001b[1;33m,\u001b[0m \u001b[0mpr_mu\u001b[0m \u001b[1;33m*\u001b[0m \u001b[1;36m1.000000001\u001b[0m\u001b[1;33m]\u001b[0m\u001b[1;33m,\u001b[0m \u001b[1;33m[\u001b[0m\u001b[1;36m0\u001b[0m\u001b[1;33m,\u001b[0m \u001b[0mmax\u001b[0m\u001b[1;33m(\u001b[0m\u001b[0mev\u001b[0m\u001b[1;33m)\u001b[0m\u001b[1;33m,\u001b[0m \u001b[1;36m0\u001b[0m\u001b[1;33m]\u001b[0m\u001b[1;33m,\u001b[0m \u001b[0mlabel\u001b[0m\u001b[1;33m=\u001b[0m\u001b[1;34m'predict. bound'\u001b[0m\u001b[1;33m)\u001b[0m\u001b[1;33m\u001b[0m\u001b[0m\n\u001b[0;32m     79\u001b[0m         \u001b[0mplt\u001b[0m\u001b[1;33m.\u001b[0m\u001b[0mplot\u001b[0m\u001b[1;33m(\u001b[0m\u001b[1;33m[\u001b[0m\u001b[0mmin\u001b[0m\u001b[1;33m(\u001b[0m\u001b[0mpr\u001b[0m\u001b[1;33m)\u001b[0m\u001b[1;33m,\u001b[0m \u001b[0mmax\u001b[0m\u001b[1;33m(\u001b[0m\u001b[0mpr\u001b[0m\u001b[1;33m)\u001b[0m\u001b[1;33m]\u001b[0m\u001b[1;33m,\u001b[0m \u001b[1;33m[\u001b[0m\u001b[0mnp\u001b[0m\u001b[1;33m.\u001b[0m\u001b[0mmean\u001b[0m\u001b[1;33m(\u001b[0m\u001b[0mev\u001b[0m\u001b[1;33m)\u001b[0m\u001b[1;33m,\u001b[0m \u001b[0mnp\u001b[0m\u001b[1;33m.\u001b[0m\u001b[0mmean\u001b[0m\u001b[1;33m(\u001b[0m\u001b[0mev\u001b[0m\u001b[1;33m)\u001b[0m\u001b[1;33m]\u001b[0m\u001b[1;33m,\u001b[0m \u001b[0mlabel\u001b[0m\u001b[1;33m=\u001b[0m\u001b[1;34m'eval. bound'\u001b[0m\u001b[1;33m)\u001b[0m\u001b[1;33m\u001b[0m\u001b[0m\n",
      "\u001b[1;32m/usr/lib/python2.7/site-packages/matplotlib/pyplot.pyc\u001b[0m in \u001b[0;36mplot\u001b[1;34m(*args, **kwargs)\u001b[0m\n\u001b[0;32m   3152\u001b[0m         \u001b[0max\u001b[0m\u001b[1;33m.\u001b[0m\u001b[0mhold\u001b[0m\u001b[1;33m(\u001b[0m\u001b[0mhold\u001b[0m\u001b[1;33m)\u001b[0m\u001b[1;33m\u001b[0m\u001b[0m\n\u001b[0;32m   3153\u001b[0m     \u001b[1;32mtry\u001b[0m\u001b[1;33m:\u001b[0m\u001b[1;33m\u001b[0m\u001b[0m\n\u001b[1;32m-> 3154\u001b[1;33m         \u001b[0mret\u001b[0m \u001b[1;33m=\u001b[0m \u001b[0max\u001b[0m\u001b[1;33m.\u001b[0m\u001b[0mplot\u001b[0m\u001b[1;33m(\u001b[0m\u001b[1;33m*\u001b[0m\u001b[0margs\u001b[0m\u001b[1;33m,\u001b[0m \u001b[1;33m**\u001b[0m\u001b[0mkwargs\u001b[0m\u001b[1;33m)\u001b[0m\u001b[1;33m\u001b[0m\u001b[0m\n\u001b[0m\u001b[0;32m   3155\u001b[0m     \u001b[1;32mfinally\u001b[0m\u001b[1;33m:\u001b[0m\u001b[1;33m\u001b[0m\u001b[0m\n\u001b[0;32m   3156\u001b[0m         \u001b[0max\u001b[0m\u001b[1;33m.\u001b[0m\u001b[0mhold\u001b[0m\u001b[1;33m(\u001b[0m\u001b[0mwashold\u001b[0m\u001b[1;33m)\u001b[0m\u001b[1;33m\u001b[0m\u001b[0m\n",
      "\u001b[1;32m/usr/lib/python2.7/site-packages/matplotlib/__init__.pyc\u001b[0m in \u001b[0;36minner\u001b[1;34m(ax, *args, **kwargs)\u001b[0m\n\u001b[0;32m   1810\u001b[0m                     warnings.warn(msg % (label_namer, func.__name__),\n\u001b[0;32m   1811\u001b[0m                                   RuntimeWarning, stacklevel=2)\n\u001b[1;32m-> 1812\u001b[1;33m             \u001b[1;32mreturn\u001b[0m \u001b[0mfunc\u001b[0m\u001b[1;33m(\u001b[0m\u001b[0max\u001b[0m\u001b[1;33m,\u001b[0m \u001b[1;33m*\u001b[0m\u001b[0margs\u001b[0m\u001b[1;33m,\u001b[0m \u001b[1;33m**\u001b[0m\u001b[0mkwargs\u001b[0m\u001b[1;33m)\u001b[0m\u001b[1;33m\u001b[0m\u001b[0m\n\u001b[0m\u001b[0;32m   1813\u001b[0m         \u001b[0mpre_doc\u001b[0m \u001b[1;33m=\u001b[0m \u001b[0minner\u001b[0m\u001b[1;33m.\u001b[0m\u001b[0m__doc__\u001b[0m\u001b[1;33m\u001b[0m\u001b[0m\n\u001b[0;32m   1814\u001b[0m         \u001b[1;32mif\u001b[0m \u001b[0mpre_doc\u001b[0m \u001b[1;32mis\u001b[0m \u001b[0mNone\u001b[0m\u001b[1;33m:\u001b[0m\u001b[1;33m\u001b[0m\u001b[0m\n",
      "\u001b[1;32m/usr/lib/python2.7/site-packages/matplotlib/axes/_axes.pyc\u001b[0m in \u001b[0;36mplot\u001b[1;34m(self, *args, **kwargs)\u001b[0m\n\u001b[0;32m   1423\u001b[0m \u001b[1;33m\u001b[0m\u001b[0m\n\u001b[0;32m   1424\u001b[0m         \u001b[1;32mfor\u001b[0m \u001b[0mline\u001b[0m \u001b[1;32min\u001b[0m \u001b[0mself\u001b[0m\u001b[1;33m.\u001b[0m\u001b[0m_get_lines\u001b[0m\u001b[1;33m(\u001b[0m\u001b[1;33m*\u001b[0m\u001b[0margs\u001b[0m\u001b[1;33m,\u001b[0m \u001b[1;33m**\u001b[0m\u001b[0mkwargs\u001b[0m\u001b[1;33m)\u001b[0m\u001b[1;33m:\u001b[0m\u001b[1;33m\u001b[0m\u001b[0m\n\u001b[1;32m-> 1425\u001b[1;33m             \u001b[0mself\u001b[0m\u001b[1;33m.\u001b[0m\u001b[0madd_line\u001b[0m\u001b[1;33m(\u001b[0m\u001b[0mline\u001b[0m\u001b[1;33m)\u001b[0m\u001b[1;33m\u001b[0m\u001b[0m\n\u001b[0m\u001b[0;32m   1426\u001b[0m             \u001b[0mlines\u001b[0m\u001b[1;33m.\u001b[0m\u001b[0mappend\u001b[0m\u001b[1;33m(\u001b[0m\u001b[0mline\u001b[0m\u001b[1;33m)\u001b[0m\u001b[1;33m\u001b[0m\u001b[0m\n\u001b[0;32m   1427\u001b[0m \u001b[1;33m\u001b[0m\u001b[0m\n",
      "\u001b[1;32m/usr/lib/python2.7/site-packages/matplotlib/axes/_base.pyc\u001b[0m in \u001b[0;36madd_line\u001b[1;34m(self, line)\u001b[0m\n\u001b[0;32m   1706\u001b[0m             \u001b[0mline\u001b[0m\u001b[1;33m.\u001b[0m\u001b[0mset_clip_path\u001b[0m\u001b[1;33m(\u001b[0m\u001b[0mself\u001b[0m\u001b[1;33m.\u001b[0m\u001b[0mpatch\u001b[0m\u001b[1;33m)\u001b[0m\u001b[1;33m\u001b[0m\u001b[0m\n\u001b[0;32m   1707\u001b[0m \u001b[1;33m\u001b[0m\u001b[0m\n\u001b[1;32m-> 1708\u001b[1;33m         \u001b[0mself\u001b[0m\u001b[1;33m.\u001b[0m\u001b[0m_update_line_limits\u001b[0m\u001b[1;33m(\u001b[0m\u001b[0mline\u001b[0m\u001b[1;33m)\u001b[0m\u001b[1;33m\u001b[0m\u001b[0m\n\u001b[0m\u001b[0;32m   1709\u001b[0m         \u001b[1;32mif\u001b[0m \u001b[1;32mnot\u001b[0m \u001b[0mline\u001b[0m\u001b[1;33m.\u001b[0m\u001b[0mget_label\u001b[0m\u001b[1;33m(\u001b[0m\u001b[1;33m)\u001b[0m\u001b[1;33m:\u001b[0m\u001b[1;33m\u001b[0m\u001b[0m\n\u001b[0;32m   1710\u001b[0m             \u001b[0mline\u001b[0m\u001b[1;33m.\u001b[0m\u001b[0mset_label\u001b[0m\u001b[1;33m(\u001b[0m\u001b[1;34m'_line%d'\u001b[0m \u001b[1;33m%\u001b[0m \u001b[0mlen\u001b[0m\u001b[1;33m(\u001b[0m\u001b[0mself\u001b[0m\u001b[1;33m.\u001b[0m\u001b[0mlines\u001b[0m\u001b[1;33m)\u001b[0m\u001b[1;33m)\u001b[0m\u001b[1;33m\u001b[0m\u001b[0m\n",
      "\u001b[1;32m/usr/lib/python2.7/site-packages/matplotlib/axes/_base.pyc\u001b[0m in \u001b[0;36m_update_line_limits\u001b[1;34m(self, line)\u001b[0m\n\u001b[0;32m   1728\u001b[0m         \u001b[0mFigures\u001b[0m \u001b[0mout\u001b[0m \u001b[0mthe\u001b[0m \u001b[0mdata\u001b[0m \u001b[0mlimit\u001b[0m \u001b[0mof\u001b[0m \u001b[0mthe\u001b[0m \u001b[0mgiven\u001b[0m \u001b[0mline\u001b[0m\u001b[1;33m,\u001b[0m \u001b[0mupdating\u001b[0m \u001b[0mself\u001b[0m\u001b[1;33m.\u001b[0m\u001b[0mdataLim\u001b[0m\u001b[1;33m.\u001b[0m\u001b[1;33m\u001b[0m\u001b[0m\n\u001b[0;32m   1729\u001b[0m         \"\"\"\n\u001b[1;32m-> 1730\u001b[1;33m         \u001b[0mpath\u001b[0m \u001b[1;33m=\u001b[0m \u001b[0mline\u001b[0m\u001b[1;33m.\u001b[0m\u001b[0mget_path\u001b[0m\u001b[1;33m(\u001b[0m\u001b[1;33m)\u001b[0m\u001b[1;33m\u001b[0m\u001b[0m\n\u001b[0m\u001b[0;32m   1731\u001b[0m         \u001b[1;32mif\u001b[0m \u001b[0mpath\u001b[0m\u001b[1;33m.\u001b[0m\u001b[0mvertices\u001b[0m\u001b[1;33m.\u001b[0m\u001b[0msize\u001b[0m \u001b[1;33m==\u001b[0m \u001b[1;36m0\u001b[0m\u001b[1;33m:\u001b[0m\u001b[1;33m\u001b[0m\u001b[0m\n\u001b[0;32m   1732\u001b[0m             \u001b[1;32mreturn\u001b[0m\u001b[1;33m\u001b[0m\u001b[0m\n",
      "\u001b[1;32m/usr/lib/python2.7/site-packages/matplotlib/lines.pyc\u001b[0m in \u001b[0;36mget_path\u001b[1;34m(self)\u001b[0m\n\u001b[0;32m    923\u001b[0m         \"\"\"\n\u001b[0;32m    924\u001b[0m         \u001b[1;32mif\u001b[0m \u001b[0mself\u001b[0m\u001b[1;33m.\u001b[0m\u001b[0m_invalidy\u001b[0m \u001b[1;32mor\u001b[0m \u001b[0mself\u001b[0m\u001b[1;33m.\u001b[0m\u001b[0m_invalidx\u001b[0m\u001b[1;33m:\u001b[0m\u001b[1;33m\u001b[0m\u001b[0m\n\u001b[1;32m--> 925\u001b[1;33m             \u001b[0mself\u001b[0m\u001b[1;33m.\u001b[0m\u001b[0mrecache\u001b[0m\u001b[1;33m(\u001b[0m\u001b[1;33m)\u001b[0m\u001b[1;33m\u001b[0m\u001b[0m\n\u001b[0m\u001b[0;32m    926\u001b[0m         \u001b[1;32mreturn\u001b[0m \u001b[0mself\u001b[0m\u001b[1;33m.\u001b[0m\u001b[0m_path\u001b[0m\u001b[1;33m\u001b[0m\u001b[0m\n\u001b[0;32m    927\u001b[0m \u001b[1;33m\u001b[0m\u001b[0m\n",
      "\u001b[1;32m/usr/lib/python2.7/site-packages/matplotlib/lines.pyc\u001b[0m in \u001b[0;36mrecache\u001b[1;34m(self, always)\u001b[0m\n\u001b[0;32m    619\u001b[0m                 \u001b[0my\u001b[0m \u001b[1;33m=\u001b[0m \u001b[0mma\u001b[0m\u001b[1;33m.\u001b[0m\u001b[0masarray\u001b[0m\u001b[1;33m(\u001b[0m\u001b[0myconv\u001b[0m\u001b[1;33m,\u001b[0m \u001b[0mnp\u001b[0m\u001b[1;33m.\u001b[0m\u001b[0mfloat_\u001b[0m\u001b[1;33m)\u001b[0m\u001b[1;33m.\u001b[0m\u001b[0mfilled\u001b[0m\u001b[1;33m(\u001b[0m\u001b[0mnp\u001b[0m\u001b[1;33m.\u001b[0m\u001b[0mnan\u001b[0m\u001b[1;33m)\u001b[0m\u001b[1;33m\u001b[0m\u001b[0m\n\u001b[0;32m    620\u001b[0m             \u001b[1;32melse\u001b[0m\u001b[1;33m:\u001b[0m\u001b[1;33m\u001b[0m\u001b[0m\n\u001b[1;32m--> 621\u001b[1;33m                 \u001b[0my\u001b[0m \u001b[1;33m=\u001b[0m \u001b[0mnp\u001b[0m\u001b[1;33m.\u001b[0m\u001b[0masarray\u001b[0m\u001b[1;33m(\u001b[0m\u001b[0myconv\u001b[0m\u001b[1;33m,\u001b[0m \u001b[0mnp\u001b[0m\u001b[1;33m.\u001b[0m\u001b[0mfloat_\u001b[0m\u001b[1;33m)\u001b[0m\u001b[1;33m\u001b[0m\u001b[0m\n\u001b[0m\u001b[0;32m    622\u001b[0m             \u001b[0my\u001b[0m \u001b[1;33m=\u001b[0m \u001b[0my\u001b[0m\u001b[1;33m.\u001b[0m\u001b[0mravel\u001b[0m\u001b[1;33m(\u001b[0m\u001b[1;33m)\u001b[0m\u001b[1;33m\u001b[0m\u001b[0m\n\u001b[0;32m    623\u001b[0m         \u001b[1;32melse\u001b[0m\u001b[1;33m:\u001b[0m\u001b[1;33m\u001b[0m\u001b[0m\n",
      "\u001b[1;32m/usr/lib/python2.7/site-packages/numpy/core/numeric.pyc\u001b[0m in \u001b[0;36masarray\u001b[1;34m(a, dtype, order)\u001b[0m\n\u001b[0;32m    472\u001b[0m \u001b[1;33m\u001b[0m\u001b[0m\n\u001b[0;32m    473\u001b[0m     \"\"\"\n\u001b[1;32m--> 474\u001b[1;33m     \u001b[1;32mreturn\u001b[0m \u001b[0marray\u001b[0m\u001b[1;33m(\u001b[0m\u001b[0ma\u001b[0m\u001b[1;33m,\u001b[0m \u001b[0mdtype\u001b[0m\u001b[1;33m,\u001b[0m \u001b[0mcopy\u001b[0m\u001b[1;33m=\u001b[0m\u001b[0mFalse\u001b[0m\u001b[1;33m,\u001b[0m \u001b[0morder\u001b[0m\u001b[1;33m=\u001b[0m\u001b[0morder\u001b[0m\u001b[1;33m)\u001b[0m\u001b[1;33m\u001b[0m\u001b[0m\n\u001b[0m\u001b[0;32m    475\u001b[0m \u001b[1;33m\u001b[0m\u001b[0m\n\u001b[0;32m    476\u001b[0m \u001b[1;32mdef\u001b[0m \u001b[0masanyarray\u001b[0m\u001b[1;33m(\u001b[0m\u001b[0ma\u001b[0m\u001b[1;33m,\u001b[0m \u001b[0mdtype\u001b[0m\u001b[1;33m=\u001b[0m\u001b[0mNone\u001b[0m\u001b[1;33m,\u001b[0m \u001b[0morder\u001b[0m\u001b[1;33m=\u001b[0m\u001b[0mNone\u001b[0m\u001b[1;33m)\u001b[0m\u001b[1;33m:\u001b[0m\u001b[1;33m\u001b[0m\u001b[0m\n",
      "\u001b[1;31mValueError\u001b[0m: could not convert string to float: tP"
     ]
    },
    {
     "data": {
      "image/png": "[encoded data removed]",
      "text/plain": [
       "<matplotlib.figure.Figure at 0x7f547089bfd0>"
      ]
     },
     "metadata": {},
     "output_type": "display_data"
    }
   ],
   "source": [
    "print \"Confidence:\"\n",
    "i_hiConf = np.where(ESS_conf > np.mean(ESS_conf))[0]\n",
    "print \"Percentage of sounds with a confidence above mean confidence: \" + str(len(i_hiConf) / float(N) * 100) + \"%\"\n",
    "\n",
    "pa.predict(ESS_conf, ESS_err, plot=1);"
   ]
  },
  {
   "cell_type": "code",
   "execution_count": 175,
   "metadata": {
    "collapsed": false
   },
   "outputs": [
    {
     "name": "stdout",
     "output_type": "stream",
     "text": [
      "Salience:\n"
     ]
    }
   ],
   "source": [
    "print \"Salience:\""
   ]
  },
  {
   "cell_type": "code",
   "execution_count": 176,
   "metadata": {
    "collapsed": false
   },
   "outputs": [
    {
     "name": "stdout",
     "output_type": "stream",
     "text": [
      "Annotated pitch:\n"
     ]
    }
   ],
   "source": [
    "print \"Annotated pitch:\""
   ]
  },
  {
   "cell_type": "markdown",
   "metadata": {},
   "source": [
    "### 2.3.2: Descriptors:"
   ]
  },
  {
   "cell_type": "code",
   "execution_count": null,
   "metadata": {
    "collapsed": true
   },
   "outputs": [],
   "source": []
  },
  {
   "cell_type": "code",
   "execution_count": null,
   "metadata": {
    "collapsed": true
   },
   "outputs": [],
   "source": []
  },
  {
   "cell_type": "code",
   "execution_count": null,
   "metadata": {
    "collapsed": true
   },
   "outputs": [],
   "source": []
  },
  {
   "cell_type": "code",
   "execution_count": null,
   "metadata": {
    "collapsed": true
   },
   "outputs": [],
   "source": []
  },
  {
   "cell_type": "code",
   "execution_count": null,
   "metadata": {
    "collapsed": true
   },
   "outputs": [],
   "source": []
  },
  {
   "cell_type": "code",
   "execution_count": 21,
   "metadata": {
    "collapsed": false
   },
   "outputs": [
    {
     "name": "stdout",
     "output_type": "stream",
     "text": [
      "Mean absulute error per pack:\n",
      "\tCarlos Vaquero (freesound):\t328.652712702 Hz, (σ: 914.870811522) Hz\n",
      "\tCarlos Vaquero (local):\t\t324.560556115 Hz, (σ: 915.430990078) Hz\n",
      "\tgood-sounds (freesound):\t66.7469563208 Hz, (σ: 127.071695262) Hz\n",
      "\tgood-sounds (local):\t\t63.7242028072 Hz, (σ: 132.896954675) Hz\n",
      "\tModular Samples (freesound):\t992.896007262 Hz, (σ: 1656.35199494) Hz\n",
      "\tModular Samples (local):\t976.729097772 Hz, (σ: 1645.59142828) Hz\n",
      "\tPhilharmonia (local):\t\t197.788403323 Hz, (σ: 541.378087422) Hz\n",
      "\tIOWA (local):\t\t\t321.628922631 Hz, (σ: 693.374528765) Hz\n",
      "\n",
      "Total mean error (freesound):\t\t938.724572408 Hz, (σ: 1619.75750756) Hz\n",
      "Total mean error (local):\t\t682.792596858 Hz, (σ: 1389.03372572) Hz\n"
     ]
    }
   ],
   "source": [
    "\n",
    "print \"Mean absulute error per pack:\"\n",
    "print \"\\tCarlos Vaquero (freesound):\\t\" + str(np.mean(abs(csJ_err))) + \" Hz, (σ: \" + str(np.std(abs(csJ_err))) + \") Hz\"\n",
    "print \"\\tCarlos Vaquero (local):\\t\\t\" + str(np.mean(abs(csE_err))) + \" Hz, (σ: \" + str(np.std(abs(csE_err))) + \") Hz\"\n",
    "print \"\\tgood-sounds (freesound):\\t\" + str(np.mean(abs(gsJ_err))) + \" Hz, (σ: \" + str(np.std(abs(gsJ_err))) + \") Hz\"\n",
    "print \"\\tgood-sounds (local):\\t\\t\" + str(np.mean(abs(gsE_err))) + \" Hz, (σ: \" + str(np.std(abs(gsE_err))) + \") Hz\"\n",
    "print \"\\tModular Samples (freesound):\\t\" + str(np.mean(abs(msJ_err))) + \" Hz, (σ: \" + str(np.std(abs(msJ_err))) + \") Hz\"\n",
    "print \"\\tModular Samples (local):\\t\" + str(np.mean(abs(msE_err))) + \" Hz, (σ: \" + str(np.std(abs(msE_err))) + \") Hz\"\n",
    "print \"\\tPhilharmonia (local):\\t\\t\" + str(np.mean(abs(phE_err))) + \" Hz, (σ: \" + str(np.std(abs(phE_err))) + \") Hz\"\n",
    "print \"\\tIOWA (local):\\t\\t\\t\" + str(np.mean(abs(iwE_err))) + \" Hz, (σ: \" + str(np.std(abs(iwE_err))) + \") Hz\\n\"\n",
    "\n",
    "\n",
    "print \"Total mean error (freesound):\\t\\t\" + str(np.mean(abs(frsJSON_err))) + \" Hz, (σ: \" + str(np.std(abs(frsJSON_err))) + \") Hz\"\n",
    "print \"Total mean error (local):\\t\\t\" + str(np.mean(abs(ESS_err))) + \" Hz, (σ: \" + str(np.std(abs(ESS_err))) + \") Hz\""
   ]
  },
  {
   "cell_type": "code",
   "execution_count": null,
   "metadata": {
    "collapsed": true
   },
   "outputs": [],
   "source": []
  },
  {
   "cell_type": "code",
   "execution_count": null,
   "metadata": {
    "collapsed": true
   },
   "outputs": [],
   "source": []
  },
  {
   "cell_type": "code",
   "execution_count": null,
   "metadata": {
    "collapsed": true
   },
   "outputs": [],
   "source": []
  },
  {
   "cell_type": "code",
   "execution_count": null,
   "metadata": {
    "collapsed": true
   },
   "outputs": [],
   "source": []
  },
  {
   "cell_type": "code",
   "execution_count": null,
   "metadata": {
    "collapsed": true
   },
   "outputs": [],
   "source": []
  },
  {
   "cell_type": "markdown",
   "metadata": {},
   "source": [
    "The overal mean of the raw errors (calculated by subtracting the annotated pitch from the estimated pitch) in Herz is: $MU_ERR$"
   ]
  },
  {
   "cell_type": "code",
   "execution_count": 15,
   "metadata": {
    "collapsed": false
   },
   "outputs": [
    {
     "name": "stdout",
     "output_type": "stream",
     "text": [
      "Mean error per pack:\n",
      "\tCarlos Vaquero (freesound):\t-267.298342078 Hz,\t(σ: 934.640467594) Hz\n",
      "\tCarlos Vaquero (local):\t\t-268.133910572 Hz,\t(σ: 933.518965089) Hz\n",
      "\tgood-sounds (freesound):\t-28.7228805065 Hz,\t(σ: 140.63203067) Hz\n",
      "\tgood-sounds (local):\t\t-25.1533312318 Hz,\t(σ: 145.222878753) Hz\n",
      "\tModular Samples (freesound):\t-615.318041635 Hz,\t(σ: 1830.49941819) Hz\n",
      "\tModular Samples (local):\t-751.97894797 Hz,\t(σ: 1948.46750954) Hz\n",
      "\tPhilharmonia (local):\t\t39.6355089434 Hz,\t(σ: 575.012619393) Hz\n",
      "\tIOWA (local):\t\t\t-270.678372841 Hz,\t(σ: 714.805301805) Hz\n",
      "\n",
      "Total error (freesound):\t\t-585.447409796 Hz,\t(σ: 1778.22089081) Hz\n",
      "Total error (local):\t\t\t-472.501628519 Hz,\t(σ: 1612.05506027) Hz\n"
     ]
    }
   ],
   "source": [
    "print \"Mean error per pack:\"\n",
    "print \"\\tCarlos Vaquero (freesound):\\t\" + str(np.mean(csJ_err)) + \" Hz,\\t(σ: \" + str(np.std(csJ_err)) + \") Hz\"\n",
    "print \"\\tCarlos Vaquero (local):\\t\\t\" + str(np.mean(csE_err)) + \" Hz,\\t(σ: \" + str(np.std(csE_err)) + \") Hz\"\n",
    "print \"\\tgood-sounds (freesound):\\t\" + str(np.mean(gsJ_err)) + \" Hz,\\t(σ: \" + str(np.std(gsJ_err)) + \") Hz\"\n",
    "print \"\\tgood-sounds (local):\\t\\t\" + str(np.mean(gsE_err)) + \" Hz,\\t(σ: \" + str(np.std(gsE_err)) + \") Hz\"\n",
    "print \"\\tModular Samples (freesound):\\t\" + str(np.mean(msJ_err)) + \" Hz,\\t(σ: \" + str(np.std(msJ_err)) + \") Hz\"\n",
    "print \"\\tModular Samples (local):\\t\" + str(np.mean(msE_err)) + \" Hz,\\t(σ: \" + str(np.std(msE_err)) + \") Hz\"\n",
    "print \"\\tPhilharmonia (local):\\t\\t\" + str(np.mean(phE_err)) + \" Hz,\\t(σ: \" + str(np.std(phE_err)) + \") Hz\"\n",
    "print \"\\tIOWA (local):\\t\\t\\t\" + str(np.mean(iwE_err)) + \" Hz,\\t(σ: \" + str(np.std(iwE_err)) + \") Hz\\n\"\n",
    "\n",
    "\n",
    "print \"Total error (freesound):\\t\\t\" + str(np.mean(frsJSON_err)) + \" Hz,\\t(σ: \" + str(np.std(frsJSON_err)) + \") Hz\"\n",
    "print \"Total error (local):\\t\\t\\t\" + str(np.mean(ESS_err)) + \" Hz,\\t(σ: \" + str(np.std(ESS_err)) + \") Hz\""
   ]
  },
  {
   "cell_type": "markdown",
   "metadata": {
    "collapsed": false
   },
   "source": []
  },
  {
   "cell_type": "code",
   "execution_count": null,
   "metadata": {
    "collapsed": true
   },
   "outputs": [],
   "source": []
  }
 ],
 "metadata": {
  "kernelspec": {
   "display_name": "Python 2",
   "language": "python",
   "name": "python2"
  },
  "language_info": {
   "codemirror_mode": {
    "name": "ipython",
    "version": 2
   },
   "file_extension": ".py",
   "mimetype": "text/x-python",
   "name": "python",
   "nbconvert_exporter": "python",
   "pygments_lexer": "ipython2",
   "version": "2.7.11"
  }
 },
 "nbformat": 4,
 "nbformat_minor": 0
}
