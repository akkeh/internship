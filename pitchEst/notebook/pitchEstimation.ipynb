{
 "cells": [
  {
   "cell_type": "markdown",
   "metadata": {},
   "source": [
    "# Freesound pitch estimation assessment\n",
    "In this document the results of the assessment of the Freesound pitch estimation algorithm will be presented and discussed."
   ]
  },
  {
   "cell_type": "code",
   "execution_count": 6,
   "metadata": {
    "collapsed": false,
    "scrolled": true
   },
   "outputs": [],
   "source": [
    "import numpy as np\n",
    "\n",
    "from loadResults import *  # load results\n",
    "import pEstAssess as pa    # some functions to mangle the results\n",
    "%matplotlib inline"
   ]
  },
  {
   "cell_type": "markdown",
   "metadata": {},
   "source": [
    "## 1: Method\n",
    "The pitch estimation is assessed in two different manners: one uses the data calculated by Freesound at the moment a sound is uploaded; the other will be using the data calculated locally after downloading sounds from both Freesound and other sources.\n",
    "\n",
    "### 1.1: The sounds\n",
    "The sounds that are used come, as stated above, from Freesound and some non-Freesound sources. The sounds used from Freesound come from three different sources: the users Carlos Vaquero and Modular Samples and; the soundpacks containing the tag: 'good-sounds'. The non-Freesound sounds come from sources mentioned in the masterthesis '$TITLE$' of Carlos Vaquero [$REF$], namely sounds from the Philharmonia Orchestra [$REF$] and the piano pack from The University of Iowa Musical Instrument Samples (or as they call it MIS) [$REF$]. \n",
    "\n",
    "All of the sounds are single-note sounds from either instruments or synthesisers. The sounds from the user Carlos Vaquero are recordings from different western instruments containing for example: acoustic guitar, recorders, bassoon, several bowed instruments (played plucked, bowed and with different bowing techniques). The sounds with the tag good-sounds are also single-notes of several western instruments, but only played with a 'normal' playing technique. The sounds from the user Modular Samples are all single notes played on a digital synthesiser using different presets.\n",
    "The sounds from the Philharmonia Orchestra are several (vast) collections of sounds from different instruments, played in a wide range of manners, of the orchestra. The sounds chosen here are the cello, clarinet, guitar and violin. The sounds from \n",
    "the University of IOWA contain soudns from a piano, cello, trumpet, marimba and xylophone.\n",
    "\n",
    "Below the amount of sounds contained in each pack is shown."
   ]
  },
  {
   "cell_type": "code",
   "execution_count": 7,
   "metadata": {
    "collapsed": false
   },
   "outputs": [
    {
     "name": "stdout",
     "output_type": "stream",
     "text": [
      "Amount of sounds per source:\n",
      "Freesound:\n",
      "\tCarlos Vaquero:\t\t470 sounds\n",
      "\tgood-sounds:\t\t113 sounds\n",
      "\tModular Samples:\t7112 sounds\n",
      "\tTotal:\t\t\t7695 sounds\n",
      "\n",
      "non-Freesound:\n",
      "\tPhilharmonia:\t\t3343 sounds\n",
      "\tIOWA:\t\t\t531 sounds\n",
      "\tTotal:\t\t\t3874 sounds\n",
      "\n",
      "Total sounds:\t\t\t11569 sounds\n",
      "\n"
     ]
    }
   ],
   "source": [
    "print \"Amount of sounds per source:\"\n",
    "print \"Freesound:\"\n",
    "print \"\\tCarlos Vaquero:\\t\\t\" + str(csJ_N) + \" sounds\"\n",
    "print \"\\tgood-sounds:\\t\\t\" + str(gsJ_N) + \" sounds\"\n",
    "print \"\\tModular Samples:\\t\" + str(msJ_N) + \" sounds\"\n",
    "print \"\\tTotal:\\t\\t\\t\" + str(csJ_N + gsJ_N + msJ_N) + \" sounds\\n\"\n",
    "\n",
    "print \"non-Freesound:\"\n",
    "print \"\\tPhilharmonia:\\t\\t\" + str(phE_N) + \" sounds\"\n",
    "print \"\\tIOWA:\\t\\t\\t\" + str(iwE_N) + \" sounds\"\n",
    "print \"\\tTotal:\\t\\t\\t\" + str(phE_N + iwE_N) + \" sounds\\n\"\n",
    "\n",
    "print \"Total sounds:\\t\\t\\t\" + str(csJ_N + gsJ_N + msJ_N +phE_N + iwE_N) + \" sounds\\n\""
   ]
  },
  {
   "cell_type": "markdown",
   "metadata": {},
   "source": [
    "What clearly stands out is that most of the sounds come from the user Modular Samples and the Philharmonia library. As the results of the pitch estimation can be dependent on the characteristics of the types of sounds and the manner in which they are recorded, the results can be influenced heavily by the characteristics and recording manner of these sounds. For this reason the error values of the Modular Samples and Philharmonia sounds will be averaged over several samples taken from all their sounds."
   ]
  },
  {
   "cell_type": "markdown",
   "metadata": {},
   "source": [
    "## 1.2: Assessment\n",
    "The Freesound pitch estimation is done using the pitchYinFFT algorithm contained in the Essentia library [$REF$]. The pitchYinFFT is a optimalisation for reduced calculation time of the YIN algorithm. The performance of the pitch estimation algortihm will be assessed by comparing the pitch estimated by the algorithm against the pitch annotated for that sound, taken either from the filename of the descriptions and/or tags of the sounds."
   ]
  },
  {
   "cell_type": "markdown",
   "metadata": {},
   "source": [
    "# 2: Results\n",
    "Firstly the results of the local calculation of the pitches will be comared with the data calculated by Freesound. Seconly, the correctness of the pitch estimations will be investigated  Lastly some possible factors which can predict the correctness of the estimation will be discussed, thus investigating possible improvements. The confidence measurements from the pitchYinFFT algorithm and the annotated pitches will be compared to the succes of the estimations and the values of some aural and musical descriptors will be correlated to the error values obtained in the assessment.\n"
   ]
  },
  {
   "cell_type": "markdown",
   "metadata": {},
   "source": [
    "## 2.1: Comparison of Freesound and locally calculated data\n",
    "Ideally the values obtained trough local calculation and central calculation at uploadtime will be the same. $FIND-OUT-PARAMETERS$"
   ]
  },
  {
   "cell_type": "code",
   "execution_count": 8,
   "metadata": {
    "collapsed": false
   },
   "outputs": [
    {
     "name": "stdout",
     "output_type": "stream",
     "text": [
      "Difference in annotated pitches: 0.0Hz\n",
      "Mean absolute errors:\n",
      "Carlos:\n",
      "\tJSON: 328.652712702\tESS: 266.250295996\n",
      "Good-sounds:\n",
      "\tJSON: 66.7469563208\tESS: 43.4965363555\n",
      "modularsamples:\n",
      "\tJSON: 992.896007262\tESS: 1021.79660588\n"
     ]
    }
   ],
   "source": [
    "# compare Freesound data and locally calculated data:\n",
    "print \"Difference in annotated pitches: \" + str(np.sum(frsJSON_pTag - frsESS_pTag)) + \"Hz\" # check whether the order of the sound is the same.\n",
    "\n",
    "print \"Mean absolute errors:\"\n",
    "print \"Carlos:\\n\" + \"\\tJSON: \" + str(np.mean(abs(csJ_err))) + \"\\tESS: \" + str(np.mean(abs(csE_err)));\n",
    "print \"Good-sounds:\\n\" + \"\\tJSON: \" + str(np.mean(abs(gsJ_err))) + \"\\tESS: \" + str(np.mean(abs(gsE_err)));\n",
    "print \"modularsamples:\\n\" + \"\\tJSON: \" + str(np.mean(abs(msJ_err))) + \"\\tESS: \" + str(np.mean(abs(msE_err)));"
   ]
  },
  {
   "cell_type": "code",
   "execution_count": 3,
   "metadata": {
    "collapsed": true
   },
   "outputs": [],
   "source": [
    "# get mean values of each pack\n",
    "# for modularsamples take several samples from all the sounds\n",
    "#  and average out the vaules\n",
    "#    -> prove modularsamples is uniform"
   ]
  },
  {
   "cell_type": "code",
   "execution_count": 4,
   "metadata": {
    "collapsed": false
   },
   "outputs": [],
   "source": [
    "# overal error\n"
   ]
  },
  {
   "cell_type": "code",
   "execution_count": 4,
   "metadata": {
    "collapsed": false
   },
   "outputs": [
    {
     "ename": "NameError",
     "evalue": "name 'carlosESS' is not defined",
     "output_type": "error",
     "traceback": [
      "\u001b[1;31m---------------------------------------------------------------------------\u001b[0m",
      "\u001b[1;31mNameError\u001b[0m                                 Traceback (most recent call last)",
      "\u001b[1;32m<ipython-input-4-59bafb244397>\u001b[0m in \u001b[0;36m<module>\u001b[1;34m()\u001b[0m\n\u001b[1;32m----> 1\u001b[1;33m \u001b[0mcarlosESS\u001b[0m\u001b[1;33m\u001b[0m\u001b[0m\n\u001b[0m",
      "\u001b[1;31mNameError\u001b[0m: name 'carlosESS' is not defined"
     ]
    }
   ],
   "source": [
    "carlosESS\n"
   ]
  },
  {
   "cell_type": "code",
   "execution_count": null,
   "metadata": {
    "collapsed": true
   },
   "outputs": [],
   "source": []
  }
 ],
 "metadata": {
  "kernelspec": {
   "display_name": "Python 2",
   "language": "python",
   "name": "python2"
  },
  "language_info": {
   "codemirror_mode": {
    "name": "ipython",
    "version": 2
   },
   "file_extension": ".py",
   "mimetype": "text/x-python",
   "name": "python",
   "nbconvert_exporter": "python",
   "pygments_lexer": "ipython2",
   "version": "2.7.11"
  }
 },
 "nbformat": 4,
 "nbformat_minor": 0
}
